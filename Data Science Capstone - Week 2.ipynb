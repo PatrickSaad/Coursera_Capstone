{
 "cells": [
  {
   "cell_type": "markdown",
   "metadata": {
    "collapsed": true
   },
   "source": [
    "## Applied Data Science Capstone Week 3 - Segmenting and Clustering Neighborhoods in Toronto"
   ]
  },
  {
   "cell_type": "markdown",
   "metadata": {},
   "source": [
    "## 4. Submit a link to your Notebook on your Github repository. (10 marks)\n",
    "### Parse the webpage using Beautiful Soup"
   ]
  },
  {
   "cell_type": "code",
   "execution_count": 22,
   "metadata": {},
   "outputs": [],
   "source": [
    "import requests\n",
    "from bs4 import BeautifulSoup\n",
    "import pandas as pd\n",
    "\n",
    "# Scrape the page: https://en.wikipedia.org/wiki/List_of_postal_codes_of_Canada:_M\n",
    "url = \"https://en.wikipedia.org/wiki/List_of_postal_codes_of_Canada:_M\"\n",
    "\n",
    "# Request page\n",
    "response = requests.get(url)\n",
    "\n",
    "# Read page content\n",
    "soup = BeautifulSoup(response.content)\n",
    "\n",
    "# Get the data from the rows (and skip header)\n",
    "data_raw = soup.select(\".wikitable tr:not(:first-child)\")"
   ]
  },
  {
   "cell_type": "markdown",
   "metadata": {},
   "source": [
    "### Clean the data and setup the dataframe"
   ]
  },
  {
   "cell_type": "code",
   "execution_count": 57,
   "metadata": {},
   "outputs": [],
   "source": [
    "all_data = {\"PostalCode\": [], \"Borough\": [], \"Neighborhood\": []}\n",
    "i = 0\n",
    "\n",
    "# Loop all rows\n",
    "for row in data_raw:\n",
    "    tds = row.select(\"td\")\n",
    "    \n",
    "    # Get row values\n",
    "    postalcode = tds[0].get_text().strip()\n",
    "    borough = tds[1].get_text().strip()\n",
    "    neighborhood = tds[2].get_text().strip()\n",
    "    \n",
    "    # Skip where Borough = \"Not assigned\"\n",
    "    if borough == \"Not assigned\":\n",
    "        continue\n",
    "    \n",
    "    # One row per Postal Code\n",
    "    if postalcode not in all_data[\"PostalCode\"]:\n",
    "        all_data[\"PostalCode\"].append(postalcode)\n",
    "        all_data[\"Neighborhood\"].append(neighborhood)\n",
    "        \n",
    "        # One borough per Postal Code\n",
    "        if borough not in all_data:\n",
    "            all_data[\"Borough\"].append(borough)\n",
    "    else:\n",
    "        # Concatenate the \"Neighborhood\" values\n",
    "        index_postalcode = all_data[\"PostalCode\"].index(postalcode)\n",
    "        all_data[\"Neighborhood\"][index_postalcode] +=  \", \" + neighborhood\n",
    "\n",
    "# Dictionary with the data to pass to a dataframe\n",
    "data = {\n",
    "    \"PostalCode\": all_data[\"PostalCode\"],\n",
    "    \"Borough\": all_data[\"Borough\"],\n",
    "    \"Neighborhood\": all_data[\"Neighborhood\"]\n",
    "}\n",
    "\n",
    "# Setup Dataframe from the dictionary\n",
    "df = pd.DataFrame(data)\n",
    "\n",
    "# Replace \"Neighborhood\" columns having \"Not assigned\" with the same value as the Borough in the same row\n",
    "for index, row in df.iterrows():\n",
    "    if row[\"Neighborhood\"] == \"Not assigned\":\n",
    "        row[\"Neighborhood\"] = row[\"Borough\"]"
   ]
  },
  {
   "cell_type": "markdown",
   "metadata": {},
   "source": [
    "### Dataframe shape"
   ]
  },
  {
   "cell_type": "code",
   "execution_count": 58,
   "metadata": {},
   "outputs": [
    {
     "data": {
      "text/plain": [
       "(103, 3)"
      ]
     },
     "execution_count": 58,
     "metadata": {},
     "output_type": "execute_result"
    }
   ],
   "source": [
    "df.shape"
   ]
  }
 ],
 "metadata": {
  "kernelspec": {
   "display_name": "Python 3.6",
   "language": "python",
   "name": "python3"
  },
  "language_info": {
   "codemirror_mode": {
    "name": "ipython",
    "version": 3
   },
   "file_extension": ".py",
   "mimetype": "text/x-python",
   "name": "python",
   "nbconvert_exporter": "python",
   "pygments_lexer": "ipython3",
   "version": "3.6.8"
  }
 },
 "nbformat": 4,
 "nbformat_minor": 1
}
