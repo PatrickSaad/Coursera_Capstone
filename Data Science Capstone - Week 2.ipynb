{
 "cells": [
  {
   "cell_type": "markdown",
   "metadata": {},
   "source": [
    "## Applied Data Science Capstone Week 3 - Segmenting and Clustering Neighborhoods in Toronto\n",
    "\n",
    "## 4. Submit a link to your Notebook on your Github repository. (10 marks)\n",
    "### Parse the webpage using Beautiful Soup"
   ]
  },
  {
   "cell_type": "code",
   "execution_count": 22,
   "metadata": {},
   "outputs": [],
   "source": [
    "import requests\n",
    "from bs4 import BeautifulSoup\n",
    "import pandas as pd\n",
    "\n",
    "# Scrape the page: https://en.wikipedia.org/wiki/List_of_postal_codes_of_Canada:_M\n",
    "url = \"https://en.wikipedia.org/wiki/List_of_postal_codes_of_Canada:_M\"\n",
    "\n",
    "# Request page\n",
    "response = requests.get(url)\n",
    "\n",
    "# Read page content\n",
    "soup = BeautifulSoup(response.content)\n",
    "\n",
    "# Get the data from the rows (and skip header)\n",
    "data_raw = soup.select(\".wikitable tr:not(:first-child)\")"
   ]
  },
  {
   "cell_type": "markdown",
   "metadata": {},
   "source": [
    "### Clean the data and setup the dataframe"
   ]
  },
  {
   "cell_type": "code",
   "execution_count": 57,
   "metadata": {},
   "outputs": [],
   "source": [
    "all_data = {\"PostalCode\": [], \"Borough\": [], \"Neighborhood\": []}\n",
    "i = 0\n",
    "\n",
    "# Loop all rows\n",
    "for row in data_raw:\n",
    "    tds = row.select(\"td\")\n",
    "    \n",
    "    # Get row values\n",
    "    postalcode = tds[0].get_text().strip()\n",
    "    borough = tds[1].get_text().strip()\n",
    "    neighborhood = tds[2].get_text().strip()\n",
    "    \n",
    "    # Skip where Borough = \"Not assigned\"\n",
    "    if borough == \"Not assigned\":\n",
    "        continue\n",
    "    \n",
    "    # One row per Postal Code\n",
    "    if postalcode not in all_data[\"PostalCode\"]:\n",
    "        all_data[\"PostalCode\"].append(postalcode)\n",
    "        all_data[\"Neighborhood\"].append(neighborhood)\n",
    "        \n",
    "        # One borough per Postal Code\n",
    "        if borough not in all_data:\n",
    "            all_data[\"Borough\"].append(borough)\n",
    "    else:\n",
    "        # Concatenate the \"Neighborhood\" values\n",
    "        index_postalcode = all_data[\"PostalCode\"].index(postalcode)\n",
    "        all_data[\"Neighborhood\"][index_postalcode] +=  \", \" + neighborhood\n",
    "\n",
    "# Dictionary with the data to pass to a dataframe\n",
    "data = {\n",
    "    \"PostalCode\": all_data[\"PostalCode\"],\n",
    "    \"Borough\": all_data[\"Borough\"],\n",
    "    \"Neighborhood\": all_data[\"Neighborhood\"]\n",
    "}\n",
    "\n",
    "# Setup Dataframe from the dictionary\n",
    "df = pd.DataFrame(data)\n",
    "\n",
    "# Replace \"Neighborhood\" columns having \"Not assigned\" with the same value as the Borough in the same row\n",
    "for index, row in df.iterrows():\n",
    "    if row[\"Neighborhood\"] == \"Not assigned\":\n",
    "        row[\"Neighborhood\"] = row[\"Borough\"]"
   ]
  },
  {
   "cell_type": "markdown",
   "metadata": {},
   "source": [
    "### Dataframe shape"
   ]
  },
  {
   "cell_type": "code",
   "execution_count": 58,
   "metadata": {},
   "outputs": [
    {
     "data": {
      "text/plain": [
       "(103, 3)"
      ]
     },
     "execution_count": 58,
     "metadata": {},
     "output_type": "execute_result"
    }
   ],
   "source": [
    "df.shape"
   ]
  },
  {
   "cell_type": "markdown",
   "metadata": {},
   "source": [
    "### Once you are able to create the above dataframe, submit a link to the new Notebook on your Github repository. (2 marks)"
   ]
  },
  {
   "cell_type": "markdown",
   "metadata": {},
   "source": [
    "### Read the data from the Geospatial Data CSV"
   ]
  },
  {
   "cell_type": "code",
   "execution_count": 70,
   "metadata": {},
   "outputs": [],
   "source": [
    "import types\n",
    "import pandas as pd\n",
    "from botocore.client import Config\n",
    "import ibm_boto3\n",
    "\n",
    "def __iter__(self): return 0\n",
    "\n",
    "# @hidden_cell\n",
    "# The following code accesses a file in your IBM Cloud Object Storage. It includes your credentials.\n",
    "# You might want to remove those credentials before you share your notebook.\n",
    "client_3eb71cfbc3f443e798d46bcbbbb96002 = ibm_boto3.client(service_name='s3',\n",
    "    ibm_api_key_id='gLHKKtP9PBdbvpA3go_ZBUr6lw_F6n625M6wUkwE8Rbm',\n",
    "    ibm_auth_endpoint=\"https://iam.eu-de.bluemix.net/oidc/token\",\n",
    "    config=Config(signature_version='oauth'),\n",
    "    endpoint_url='https://s3.eu-geo.objectstorage.service.networklayer.com')\n",
    "\n",
    "body = client_3eb71cfbc3f443e798d46bcbbbb96002.get_object(Bucket='datasciencecapstoneweek2-donotdelete-pr-g8h19o8qhwqhf4',Key='Geospatial_Coordinates.csv')['Body']\n",
    "# add missing __iter__ method, so pandas accepts body as file-like object\n",
    "if not hasattr(body, \"__iter__\"): body.__iter__ = types.MethodType( __iter__, body )\n",
    "\n",
    "df_geospatial = pd.read_csv(body)"
   ]
  },
  {
   "cell_type": "markdown",
   "metadata": {},
   "source": [
    "### Merge the Geospatial dataframe with the neighborhoods dataframe"
   ]
  },
  {
   "cell_type": "code",
   "execution_count": 71,
   "metadata": {},
   "outputs": [
    {
     "data": {
      "text/html": [
       "<div>\n",
       "<style scoped>\n",
       "    .dataframe tbody tr th:only-of-type {\n",
       "        vertical-align: middle;\n",
       "    }\n",
       "\n",
       "    .dataframe tbody tr th {\n",
       "        vertical-align: top;\n",
       "    }\n",
       "\n",
       "    .dataframe thead th {\n",
       "        text-align: right;\n",
       "    }\n",
       "</style>\n",
       "<table border=\"1\" class=\"dataframe\">\n",
       "  <thead>\n",
       "    <tr style=\"text-align: right;\">\n",
       "      <th></th>\n",
       "      <th>PostalCode</th>\n",
       "      <th>Borough</th>\n",
       "      <th>Neighborhood</th>\n",
       "      <th>Latitude</th>\n",
       "      <th>Longitude</th>\n",
       "    </tr>\n",
       "  </thead>\n",
       "  <tbody>\n",
       "    <tr>\n",
       "      <th>0</th>\n",
       "      <td>M1B</td>\n",
       "      <td>Scarborough</td>\n",
       "      <td>Rouge, Malvern</td>\n",
       "      <td>43.806686</td>\n",
       "      <td>-79.194353</td>\n",
       "    </tr>\n",
       "    <tr>\n",
       "      <th>1</th>\n",
       "      <td>M1C</td>\n",
       "      <td>Scarborough</td>\n",
       "      <td>Highland Creek, Rouge Hill, Port Union</td>\n",
       "      <td>43.784535</td>\n",
       "      <td>-79.160497</td>\n",
       "    </tr>\n",
       "    <tr>\n",
       "      <th>2</th>\n",
       "      <td>M1E</td>\n",
       "      <td>Scarborough</td>\n",
       "      <td>Guildwood, Morningside, West Hill</td>\n",
       "      <td>43.763573</td>\n",
       "      <td>-79.188711</td>\n",
       "    </tr>\n",
       "    <tr>\n",
       "      <th>3</th>\n",
       "      <td>M1G</td>\n",
       "      <td>Scarborough</td>\n",
       "      <td>Woburn</td>\n",
       "      <td>43.770992</td>\n",
       "      <td>-79.216917</td>\n",
       "    </tr>\n",
       "    <tr>\n",
       "      <th>4</th>\n",
       "      <td>M1H</td>\n",
       "      <td>Scarborough</td>\n",
       "      <td>Cedarbrae</td>\n",
       "      <td>43.773136</td>\n",
       "      <td>-79.239476</td>\n",
       "    </tr>\n",
       "  </tbody>\n",
       "</table>\n",
       "</div>"
      ],
      "text/plain": [
       "  PostalCode      Borough                            Neighborhood   Latitude  \\\n",
       "0        M1B  Scarborough                          Rouge, Malvern  43.806686   \n",
       "1        M1C  Scarborough  Highland Creek, Rouge Hill, Port Union  43.784535   \n",
       "2        M1E  Scarborough       Guildwood, Morningside, West Hill  43.763573   \n",
       "3        M1G  Scarborough                                  Woburn  43.770992   \n",
       "4        M1H  Scarborough                               Cedarbrae  43.773136   \n",
       "\n",
       "   Longitude  \n",
       "0 -79.194353  \n",
       "1 -79.160497  \n",
       "2 -79.188711  \n",
       "3 -79.216917  \n",
       "4 -79.239476  "
      ]
     },
     "execution_count": 71,
     "metadata": {},
     "output_type": "execute_result"
    }
   ],
   "source": [
    "\n",
    "df_final = df_geospatial.merge(df, left_on= \"Postal Code\", right_on=\"PostalCode\")\n",
    "df_final.drop(columns=[\"Postal Code\"], inplace=True)\n",
    "\n",
    "# Order columns\n",
    "new_order = [2,3,4,0,1]\n",
    "df_final = df_final[df_final.columns[new_order]]\n",
    "\n",
    "df_final.head()"
   ]
  }
 ],
 "metadata": {
  "kernelspec": {
   "display_name": "Python 3.6",
   "language": "python",
   "name": "python3"
  },
  "language_info": {
   "codemirror_mode": {
    "name": "ipython",
    "version": 3
   },
   "file_extension": ".py",
   "mimetype": "text/x-python",
   "name": "python",
   "nbconvert_exporter": "python",
   "pygments_lexer": "ipython3",
   "version": "3.6.8"
  }
 },
 "nbformat": 4,
 "nbformat_minor": 1
}
