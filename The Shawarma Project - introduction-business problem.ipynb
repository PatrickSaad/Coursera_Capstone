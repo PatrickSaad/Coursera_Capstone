{
 "cells": [
  {
   "cell_type": "markdown",
   "metadata": {
    "collapsed": true
   },
   "source": [
    "# The Shawarma Project\n",
    "### Capstone Project - The Battle of Neighborhoods"
   ]
  },
  {
   "cell_type": "markdown",
   "metadata": {},
   "source": [
    "#### Introduction / Business Problem"
   ]
  },
  {
   "cell_type": "markdown",
   "metadata": {},
   "source": [
    "__Shawarma__ is the middle east's take on fast food - it's a delicious sandwish made from chicken, lamb, beef, etc.\n",
    "This popular street food is recently spreading worldwide, especially in the U.S. In this study, we will be looking at major cities who are lacking Shawarma! We will be using the Foursquare location data to understand which major cities lack Shawarma. We will also be using a demographics dataset to undersand if there's a customer base for this style of food. This analysis study aims to assist stakeholders with deciding which location would be a perfect place for a new modern Shawarma joint.\n"
   ]
  },
  {
   "cell_type": "markdown",
   "metadata": {},
   "source": [
    "The problem here is a demographics and a location problem. First, Shawarma is a type of traditional fast food that is mostly popular in the Middle East, but rather unknown and exotic everywhere else. Therefore the location data from Foursquare will help us see which major cities are lacking places that offer this type of food.\n",
    "\n",
    "The second problem here is a demographics issue, as this food is only familiar with a group of people who come from Middle Eastern origins / roots. We will provide stakeholders with decisions to open their new Shawarma joints based on the novelty of this food in every location, based on its demographics."
   ]
  },
  {
   "cell_type": "markdown",
   "metadata": {},
   "source": [
    "<img style=\"float: left;\" src=\"https://recipes.timesofindia.com/thumb/64696930.cms?imgsize=329052&width=300&height=300\">\n",
    "\n",
    "<div style=\"width: 100%;float:left;margin-top:10px;font-style: italic;\">Shawarma sandwich - source: recipes.timesofindia.com</div>\n"
   ]
  }
 ],
 "metadata": {
  "kernelspec": {
   "display_name": "Python 3.6",
   "language": "python",
   "name": "python3"
  },
  "language_info": {
   "codemirror_mode": {
    "name": "ipython",
    "version": 3
   },
   "file_extension": ".py",
   "mimetype": "text/x-python",
   "name": "python",
   "nbconvert_exporter": "python",
   "pygments_lexer": "ipython3",
   "version": "3.6.8"
  }
 },
 "nbformat": 4,
 "nbformat_minor": 1
}
