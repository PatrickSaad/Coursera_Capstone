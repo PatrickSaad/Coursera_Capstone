{
    "nbformat_minor": 1, 
    "cells": [
        {
            "source": "# The Shawarma Project\n### Capstone Project - The Battle of Neighborhoods", 
            "cell_type": "markdown", 
            "metadata": {
                "collapsed": true
            }
        }, 
        {
            "source": "#### Introduction / Business Problem", 
            "cell_type": "markdown", 
            "metadata": {}
        }, 
        {
            "source": "__Shawarma__ is the middle east's take on fast food - it's a delicious sandwish made from chicken, lamb, beef, etc.\nThis popular street food is recently spreading worldwide, especially in Germany with the incoming refugees since the Syrian civil war. In this study, we compare neighbourhoods in the capital Berlin using the Foursquare location data to see which neighbourhoods could host the next best Shawarma joints! One of the main features we will be looking at is the demographics of neighbourhoods.\n", 
            "cell_type": "markdown", 
            "metadata": {}
        }, 
        {
            "source": "The problem here is a demographics and a location problem. First, Shawarma is a type of traditional fast food that is mostly popular in the Middle East, but rather unknown and exotic everywhere else. Therefore the location data from Foursquare will help us see which neighbourhoods lack places that offer this new hyped-up street food.\n\nThe second problem here is a demographics issue, as this food is only familiar with a group of people who come from Middle Eastern origins / roots. We will provide stakeholders with decisions to open their new Shawarma joints based on the novelty of this food with the demographical distribution of the population in a neighbourhood.", 
            "cell_type": "markdown", 
            "metadata": {}
        }, 
        {
            "source": "<img style=\"float: left;\" src=\"https://recipes.timesofindia.com/thumb/64696930.cms?imgsize=329052&width=300&height=300\">\n\n<div style=\"width: 100%;float:left;margin-top:10px;font-style: italic;\">Shawarma sandwich - source: recipes.timesofindia.com</div>\n", 
            "cell_type": "markdown", 
            "metadata": {}
        }, 
        {
            "source": "#### Data", 
            "cell_type": "markdown", 
            "metadata": {}
        }, 
        {
            "source": "Our data will let us explore the Middle Eastern restaurants distribution in Berlin to decide which areas are in need of more Shawarma.\n\nWe will use the following data sources:\n\n- Berlin neighbourhoods: https://en.wikipedia.org/wiki/Boroughs_and_neighborhoods_of_Berlin\n\n- Berlin demographics by neighbourhoods: https://en.wikipedia.org/wiki/Demographics_of_Berlin\n\n- Berlin restaurants data from Foursquare: https://foursquare.com\n        ", 
            "cell_type": "markdown", 
            "metadata": {}
        }
    ], 
    "metadata": {
        "kernelspec": {
            "display_name": "Python 3.6", 
            "name": "python3", 
            "language": "python"
        }, 
        "language_info": {
            "mimetype": "text/x-python", 
            "nbconvert_exporter": "python", 
            "version": "3.6.8", 
            "name": "python", 
            "file_extension": ".py", 
            "pygments_lexer": "ipython3", 
            "codemirror_mode": {
                "version": 3, 
                "name": "ipython"
            }
        }
    }, 
    "nbformat": 4
}